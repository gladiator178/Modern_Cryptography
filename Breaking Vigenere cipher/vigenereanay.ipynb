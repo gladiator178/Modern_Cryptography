{
 "cells": [
  {
   "cell_type": "code",
   "execution_count": 22,
   "id": "f0502a0c-fe3a-4d53-9343-7a6cc6b6e6cd",
   "metadata": {},
   "outputs": [
    {
     "name": "stdout",
     "output_type": "stream",
     "text": [
      "kgfcwdqhvinpnzyhjcocntcjjwgkuwnthnnyvngkxacjjwgurfjmxwyyjgrbbufqwivjgdjxnofsdgrmncbgiyqiquqtxwlmocazxwqcajvjgtctnplyjhqscjnpjcvejbvdntythkpecjngcnvaqvokauybknnongmvtzvvgsvcpkhbqtftcjntj\n"
     ]
    }
   ],
   "source": [
    "import numpy as np\n",
    "from statistics import mean\n",
    "import matplotlib.pyplot as plt\n",
    "st=\"\"\"Kg fcwd qh vin pnzy hjcocnt, cjjwg ku wnth nnyvng kxa cjjwg. Urfjm xwy yjg rbbufqwi \"vjg_djxn_ofs_dg_rmncbgi\" yq iq uqtxwlm. Oca zxw qcaj vjg tctnplyj hqs cjn pjcv ejbvdnt. Yt hkpe cjn gcnv,aqv okauy bknn ongm vt zvvgs vcpkh bqtft cjntj.\"\"\"\n",
    "st=st.lower()\n",
    "f=filter(str.isalpha,st)\n",
    "s=\"\".join(f)\n",
    "print(s)"
   ]
  },
  {
   "cell_type": "code",
   "execution_count": 23,
   "id": "807684ca-713b-4700-9e23-47b9a64a2ef0",
   "metadata": {},
   "outputs": [
    {
     "name": "stdout",
     "output_type": "stream",
     "text": [
      "{'a': 5, 'b': 6, 'c': 15, 'd': 4, 'e': 2, 'f': 5, 'g': 12, 'h': 6, 'i': 4, 'j': 18, 'k': 7, 'l': 2, 'm': 4, 'n': 18, 'o': 5, 'p': 5, 'q': 9, 'r': 3, 's': 3, 't': 11, 'u': 5, 'v': 12, 'w': 8, 'x': 5, 'y': 8, 'z': 3}\n"
     ]
    },
    {
     "data": {
      "image/png": "[encoded data removed]",
      "text/plain": [
       "<Figure size 432x288 with 1 Axes>"
      ]
     },
     "metadata": {
      "needs_background": "light"
     },
     "output_type": "display_data"
    }
   ],
   "source": [
    "# frequency analysis \n",
    "def freqana(s):\n",
    "    k={}\n",
    "    for i in range(0,len(s)):\n",
    "            if (s[i] in k):\n",
    "                k[s[i]] += 1\n",
    "            else:\n",
    "                k[s[i]] = 1\n",
    "    alph=\"abcdefghijklmnopqrstuvwxyz\"\n",
    "    for i in alph:\n",
    "        if(i not in k):\n",
    "            k[i]=0\n",
    "    return k\n",
    "k=freqana(s)\n",
    "myKeys = list(k.keys())\n",
    "myKeys.sort()\n",
    "ks = {i: k[i] for i in myKeys}\n",
    "print(ks)\n",
    "names = list(ks.keys())\n",
    "values = list(ks.values())\n",
    "\n",
    "plt.bar(range(len(ks)), values, tick_label=names)\n",
    "plt.show()"
   ]
  },
  {
   "cell_type": "code",
   "execution_count": 24,
   "id": "29b08170-976c-44d1-99bc-78eb7ffb4920",
   "metadata": {},
   "outputs": [
    {
     "name": "stdout",
     "output_type": "stream",
     "text": [
      "{'np': 3, 'jc': 2, 'oc': 2, 'cn': 2, 'nt': 4, 'tc': 3, 'tcj': 2, 'cj': 5, 'cjj': 2, 'cjjw': 2, 'jj': 2, 'jjw': 2, 'jjwg': 2, 'jw': 2, 'jwg': 2, 'wg': 2, 'gk': 2, 'th': 2, 'nn': 2, 'ng': 3, 'xw': 3, 'yj': 2, 'jg': 3, 'gr': 2, 'vj': 2, 'vjg': 2, 'no': 2, 'qt': 2, 'ca': 2, 'cjn': 3, 'jn': 3, 'ntj': 2, 'tj': 3}\n"
     ]
    }
   ],
   "source": [
    "d={}\n",
    "for i in range(0,len(s)-1):\n",
    "        if (s[i:i+2] in d):\n",
    "            d[s[i:i+2]] += 1\n",
    "        else:\n",
    "            d[s[i:i+2]] = 1\n",
    "        if (s[i:i+3] in d):\n",
    "            d[s[i:i+3]] += 1\n",
    "        else:\n",
    "            d[s[i:i+3]] = 1\n",
    "        if (s[i:i+4] in d):\n",
    "            d[s[i:i+4]] += 1\n",
    "        else:\n",
    "            d[s[i:i+4]] = 1\n",
    "# freqency of bigrams, trigrams, ...\n",
    "fi={}\n",
    "for ele in d:\n",
    "    if(d[ele]!=1):\n",
    "        fi[ele]=d[ele]\n",
    "print(fi)"
   ]
  },
  {
   "cell_type": "code",
   "execution_count": 25,
   "id": "e284c051-187b-4d7a-be70-17bca89bbf44",
   "metadata": {},
   "outputs": [
    {
     "name": "stdout",
     "output_type": "stream",
     "text": [
      "np : 102\n",
      "jc : 108\n",
      "oc : 78\n",
      "cn : 125\n",
      "nt : 10\n",
      "tc : 88\n",
      "cj : 20\n",
      "jj : 20\n",
      "jw : 20\n",
      "wg : 20\n",
      "gk : 12\n",
      "nt : 102\n",
      "th : 104\n",
      "nn : 124\n",
      "ng : 105\n",
      "cj : 78\n",
      "xw : 40\n",
      "yj : 60\n",
      "jg : 11\n",
      "gr : 20\n",
      "vj : 40\n",
      "jg : 40\n",
      "no : 86\n",
      "qt : 86\n",
      "xw : 8\n",
      "ca : 6\n",
      "tc : 70\n",
      "np : 10\n",
      "cj : 20\n",
      "jn : 20\n",
      "nt : 50\n",
      "cj : 40\n",
      "jn : 40\n",
      "ng : 18\n",
      "tcj : 158\n",
      "cjj : 20\n",
      "jjw : 20\n",
      "jwg : 20\n",
      "vjg : 40\n",
      "cjn : 20\n",
      "cjn : 40\n",
      "cjjw : 20\n",
      "jjwg : 20\n"
     ]
    }
   ],
   "source": [
    "# distance between bigrams, trigrams, ...\n",
    "for i in range(0,len(s)-1):\n",
    "    if(s[i:i+2] in fi):\n",
    "        for j in range(i+1,len(s)-2):\n",
    "            if(s[j:j+2]==s[i:i+2]):\n",
    "                print(s[i:i+2],\":\",j-i)\n",
    "                break\n",
    "for i in range(0,len(s)-2):\n",
    "    if(s[i:i+3] in fi):\n",
    "        for j in range(i+1,len(s)-2):\n",
    "            if(s[j:j+3]==s[i:i+3]):\n",
    "                print(s[i:i+3],\":\",j-i)\n",
    "                break\n",
    "for i in range(0,len(s)-3):\n",
    "    if(s[i:i+4] in fi):\n",
    "        for j in range(i+1,len(s)-2):\n",
    "            if(s[j:j+4]==s[i:i+4]):\n",
    "                print(s[i:i+4],\":\",j-i)\n",
    "                break"
   ]
  },
  {
   "cell_type": "code",
   "execution_count": 26,
   "id": "ce654152-fbb2-4ad6-9cfc-9bb03c0ccb51",
   "metadata": {},
   "outputs": [
    {
     "name": "stdout",
     "output_type": "stream",
     "text": [
      "[0, 0.04876615746180964, 0.05460726744036702, 0.04742346788883013, 0.05795559666975023, 0.06006006006006006, 0.05167470028426647, 0.049474969474969474, 0.05401844532279315, 0.036758563074352546, 0.07660818713450292, 0.04500891265597148, 0.05357142857142857, 0.050943927867004794, 0.0575614861329147, 0.05439005439005439, 0.04943181818181818, 0.04979203802733214, 0.03827160493827161, 0.04941520467836257, 0.09833333333333333, 0.04591836734693877, 0.051948051948051945, 0.053657694962042785, 0.041666666666666664, 0.06333333333333332, 0.056776556776556776, 0.04444444444444444, 0.061224489795918366, 0.022988505747126436, 0.07333333333333333]\n"
     ]
    },
    {
     "data": {
      "image/png": "[encoded data removed]",
      "text/plain": [
       "<Figure size 432x288 with 1 Axes>"
      ]
     },
     "metadata": {
      "needs_background": "light"
     },
     "output_type": "display_data"
    }
   ],
   "source": [
    "# index of coincidence of different key lengths\n",
    "import matplotlib.pyplot as plt\n",
    "ic=[0]\n",
    "for i in range(1,31):\n",
    "    a=[]\n",
    "    m=[]\n",
    "    for k in range(0,i):\n",
    "        strr=\"\"\n",
    "        j=k;\n",
    "        while(j<len(s)):\n",
    "            strr+=s[j]\n",
    "            j+=i\n",
    "        a.append(strr)\n",
    "    for al in a:\n",
    "        dic=freqana(al)\n",
    "        val = list(dic.values())\n",
    "        su=0\n",
    "        for vs in val:\n",
    "            su+=(vs*(vs-1))\n",
    "        let=len(al)*(len(al)-1)\n",
    "        m.append(su/let)\n",
    "    ic.append(mean(m))\n",
    "print(ic)\n",
    "plt.bar(range(len(ic)),ic)\n",
    "plt.show()"
   ]
  },
  {
   "cell_type": "code",
   "execution_count": 27,
   "id": "dea2a376-1663-4830-8e2a-b18c292126c5",
   "metadata": {},
   "outputs": [
    {
     "data": {
      "text/plain": [
       "['kg fcwd qh vi',\n",
       " 'n pnzy hjcoc',\n",
       " 'nt, cjjwg ku w',\n",
       " 'nth nnyvng k',\n",
       " 'xa cjjwg. urf',\n",
       " 'jm xwy yjg rb',\n",
       " 'bufqwi \"vjg_d',\n",
       " 'jxn_ofs_dg_rm',\n",
       " 'ncbgi\" yq iq u',\n",
       " 'qtxwlm. oca z',\n",
       " 'xw qcaj vjg t',\n",
       " 'ctnplyj hqs',\n",
       " ' cjn pjcv ejb',\n",
       " 'vdnt. yt hkpe',\n",
       " ' cjn gcnv,aqv',\n",
       " ' okauy bknn o',\n",
       " 'ngm vt zvvgs',\n",
       " ' vcpkh bqtft',\n",
       " ' cjntj.']"
      ]
     },
     "execution_count": 27,
     "metadata": {},
     "output_type": "execute_result"
    }
   ],
   "source": [
    "sc=[]\n",
    "ak=\"\"\n",
    "c=1\n",
    "for i in range(0,len(st)):\n",
    "    ak+=st[i]\n",
    "    if(st[i].isalpha()):\n",
    "        c+=1\n",
    "    if(c%11==0 or i==len(st)-1):\n",
    "        sc.append(ak)\n",
    "        c=1\n",
    "        ak=\"\"\n",
    "sc"
   ]
  },
  {
   "cell_type": "code",
   "execution_count": 28,
   "id": "c594e918-40d7-4e55-88e1-dd6da351f7a1",
   "metadata": {},
   "outputs": [
    {
     "name": "stdout",
     "output_type": "stream",
     "text": [
      "['knnnxjbjnqxccvconvc', 'gpttamuxctwtjdjkgcj', 'fnchcxfnbxqnnnnampn', 'czjnjwqogwcpptguvkt', 'wyjnjywfilaljycythj', 'dhwywyisymjyctnbzb', 'qjgvgjvdqovjvhvkvq', 'hcknugjgicjhekanvt', 'vougrrgrqagqjpqngf', 'icwkfbdmuztsbevost']\n",
      "{'k': 1, 'n': 5, 'x': 2, 'j': 2, 'b': 1, 'q': 1, 'c': 4, 'v': 2, 'o': 1, 'a': 0, 'd': 0, 'e': 0, 'f': 0, 'g': 0, 'h': 0, 'i': 0, 'l': 0, 'm': 0, 'p': 0, 'r': 0, 's': 0, 't': 0, 'u': 0, 'w': 0, 'y': 0, 'z': 0}\n"
     ]
    },
    {
     "data": {
      "image/png": "[encoded data removed]",
      "text/plain": [
       "<Figure size 432x288 with 1 Axes>"
      ]
     },
     "metadata": {
      "needs_background": "light"
     },
     "output_type": "display_data"
    },
    {
     "name": "stdout",
     "output_type": "stream",
     "text": [
      "{'g': 2, 'p': 1, 't': 4, 'a': 1, 'm': 1, 'u': 1, 'x': 1, 'c': 2, 'w': 1, 'j': 3, 'd': 1, 'k': 1, 'b': 0, 'e': 0, 'f': 0, 'h': 0, 'i': 0, 'l': 0, 'n': 0, 'o': 0, 'q': 0, 'r': 0, 's': 0, 'v': 0, 'y': 0, 'z': 0}\n"
     ]
    },
    {
     "data": {
      "image/png": "[encoded data removed]",
      "text/plain": [
       "<Figure size 432x288 with 1 Axes>"
      ]
     },
     "metadata": {
      "needs_background": "light"
     },
     "output_type": "display_data"
    },
    {
     "name": "stdout",
     "output_type": "stream",
     "text": [
      "{'f': 2, 'n': 7, 'c': 2, 'h': 1, 'x': 2, 'b': 1, 'q': 1, 'a': 1, 'm': 1, 'p': 1, 'd': 0, 'e': 0, 'g': 0, 'i': 0, 'j': 0, 'k': 0, 'l': 0, 'o': 0, 'r': 0, 's': 0, 't': 0, 'u': 0, 'v': 0, 'w': 0, 'y': 0, 'z': 0}\n"
     ]
    },
    {
     "data": {
      "image/png": "[encoded data removed]",
      "text/plain": [
       "<Figure size 432x288 with 1 Axes>"
      ]
     },
     "metadata": {
      "needs_background": "light"
     },
     "output_type": "display_data"
    },
    {
     "name": "stdout",
     "output_type": "stream",
     "text": [
      "{'c': 2, 'z': 1, 'j': 2, 'n': 1, 'w': 2, 'q': 1, 'o': 1, 'g': 2, 'p': 2, 't': 2, 'u': 1, 'v': 1, 'k': 1, 'a': 0, 'b': 0, 'd': 0, 'e': 0, 'f': 0, 'h': 0, 'i': 0, 'l': 0, 'm': 0, 'r': 0, 's': 0, 'x': 0, 'y': 0}\n"
     ]
    },
    {
     "data": {
      "image/png": "[encoded data removed]",
      "text/plain": [
       "<Figure size 432x288 with 1 Axes>"
      ]
     },
     "metadata": {
      "needs_background": "light"
     },
     "output_type": "display_data"
    },
    {
     "name": "stdout",
     "output_type": "stream",
     "text": [
      "{'w': 2, 'y': 4, 'j': 4, 'n': 1, 'f': 1, 'i': 1, 'l': 2, 'a': 1, 'c': 1, 't': 1, 'h': 1, 'b': 0, 'd': 0, 'e': 0, 'g': 0, 'k': 0, 'm': 0, 'o': 0, 'p': 0, 'q': 0, 'r': 0, 's': 0, 'u': 0, 'v': 0, 'x': 0, 'z': 0}\n"
     ]
    },
    {
     "data": {
      "image/png": "[encoded data removed]",
      "text/plain": [
       "<Figure size 432x288 with 1 Axes>"
      ]
     },
     "metadata": {
      "needs_background": "light"
     },
     "output_type": "display_data"
    },
    {
     "name": "stdout",
     "output_type": "stream",
     "text": [
      "{'d': 1, 'h': 1, 'w': 2, 'y': 4, 'i': 1, 's': 1, 'm': 1, 'j': 1, 'c': 1, 't': 1, 'n': 1, 'b': 2, 'z': 1, 'a': 0, 'e': 0, 'f': 0, 'g': 0, 'k': 0, 'l': 0, 'o': 0, 'p': 0, 'q': 0, 'r': 0, 'u': 0, 'v': 0, 'x': 0}\n"
     ]
    },
    {
     "data": {
      "image/png": "[encoded data removed]",
      "text/plain": [
       "<Figure size 432x288 with 1 Axes>"
      ]
     },
     "metadata": {
      "needs_background": "light"
     },
     "output_type": "display_data"
    },
    {
     "name": "stdout",
     "output_type": "stream",
     "text": [
      "{'q': 3, 'j': 3, 'g': 2, 'v': 6, 'd': 1, 'o': 1, 'h': 1, 'k': 1, 'a': 0, 'b': 0, 'c': 0, 'e': 0, 'f': 0, 'i': 0, 'l': 0, 'm': 0, 'n': 0, 'p': 0, 'r': 0, 's': 0, 't': 0, 'u': 0, 'w': 0, 'x': 0, 'y': 0, 'z': 0}\n"
     ]
    },
    {
     "data": {
      "image/png": "[encoded data removed]",
      "text/plain": [
       "<Figure size 432x288 with 1 Axes>"
      ]
     },
     "metadata": {
      "needs_background": "light"
     },
     "output_type": "display_data"
    },
    {
     "name": "stdout",
     "output_type": "stream",
     "text": [
      "{'h': 2, 'c': 2, 'k': 2, 'n': 2, 'u': 1, 'g': 2, 'j': 2, 'i': 1, 'e': 1, 'a': 1, 'v': 1, 't': 1, 'b': 0, 'd': 0, 'f': 0, 'l': 0, 'm': 0, 'o': 0, 'p': 0, 'q': 0, 'r': 0, 's': 0, 'w': 0, 'x': 0, 'y': 0, 'z': 0}\n"
     ]
    },
    {
     "data": {
      "image/png": "[encoded data removed]",
      "text/plain": [
       "<Figure size 432x288 with 1 Axes>"
      ]
     },
     "metadata": {
      "needs_background": "light"
     },
     "output_type": "display_data"
    },
    {
     "name": "stdout",
     "output_type": "stream",
     "text": [
      "{'v': 1, 'o': 1, 'u': 1, 'g': 4, 'r': 3, 'q': 3, 'a': 1, 'j': 1, 'p': 1, 'n': 1, 'f': 1, 'b': 0, 'c': 0, 'd': 0, 'e': 0, 'h': 0, 'i': 0, 'k': 0, 'l': 0, 'm': 0, 's': 0, 't': 0, 'w': 0, 'x': 0, 'y': 0, 'z': 0}\n"
     ]
    },
    {
     "data": {
      "image/png": "[encoded data removed]",
      "text/plain": [
       "<Figure size 432x288 with 1 Axes>"
      ]
     },
     "metadata": {
      "needs_background": "light"
     },
     "output_type": "display_data"
    },
    {
     "name": "stdout",
     "output_type": "stream",
     "text": [
      "{'i': 1, 'c': 1, 'w': 1, 'k': 1, 'f': 1, 'b': 2, 'd': 1, 'm': 1, 'u': 1, 'z': 1, 't': 2, 's': 2, 'e': 1, 'v': 1, 'o': 1, 'a': 0, 'g': 0, 'h': 0, 'j': 0, 'l': 0, 'n': 0, 'p': 0, 'q': 0, 'r': 0, 'x': 0, 'y': 0}\n"
     ]
    },
    {
     "data": {
      "image/png": "[encoded data removed]",
      "text/plain": [
       "<Figure size 432x288 with 1 Axes>"
      ]
     },
     "metadata": {
      "needs_background": "light"
     },
     "output_type": "display_data"
    }
   ],
   "source": [
    "# frequency analysis of blocks \n",
    "i=10\n",
    "a=[]\n",
    "m=[]\n",
    "for k in range(0,i):\n",
    "    strr=\"\"\n",
    "    j=k;\n",
    "    while(j<len(s)):\n",
    "        strr+=s[j]\n",
    "        j+=i\n",
    "    a.append(strr)\n",
    "print(a)\n",
    "for al in a:\n",
    "    dic=freqana(al)\n",
    "    myKeys = list(dic.keys())\n",
    "    myKeys.sort()\n",
    "    ks = {i: dic[i] for i in myKeys}\n",
    "    print(dic)\n",
    "    names = list(ks.keys())\n",
    "    values = list(ks.values())\n",
    "\n",
    "    plt.bar(range(len(ks)), values, tick_label=names)\n",
    "    plt.show()"
   ]
  },
  {
   "cell_type": "code",
   "execution_count": 31,
   "id": "0eb195b8-30f0-4c3b-9cc0-5ebbfe195fe1",
   "metadata": {},
   "outputs": [
    {
     "name": "stdout",
     "output_type": "stream",
     "text": [
      "be wary of th\n",
      "e next chamb\n",
      "er, there is v\n",
      "ery little j\n",
      "oy there. spe\n",
      "ak out the pa\n",
      "ssword \"the_c\n",
      "ave_man_be_pl\n",
      "eased\" to go t\n",
      "hrough. may y\n",
      "ou have the s\n",
      "trength for\n",
      " the next cha\n",
      "mber. to find\n",
      " the exit,you\n",
      " first will n\n",
      "eed to utter\n",
      " magic words\n",
      " there.\n",
      "be wary of the next chamber, there is very little joy there. speak out the password \"the_cave_man_be_pleased\" to go through. may you have the strength for the next chamber. to find the exit,you first will need to utter magic words there.\n"
     ]
    }
   ],
   "source": [
    "# Trial for key\n",
    "sb=[]\n",
    "at=\"\"\n",
    "kl=10\n",
    "key=\"jcjcffcccb\"\n",
    "c=1\n",
    "for i in range(0,len(st)):\n",
    "    if(st[i].isalpha()):\n",
    "        for j in range(0,kl):\n",
    "            if(c%(kl+1)==j+1):\n",
    "                at+=chr((ord(st[i])-ord(key[j]))%26+ord('a')) \n",
    "        c+=1\n",
    "    else:\n",
    "            at+=st[i]\n",
    "    if(c%(kl+1)==0 or i==len(st)-1):\n",
    "        sb.append(at)\n",
    "        c=1\n",
    "        at=\"\"\n",
    "stri=\"\"\n",
    "for i in sb:\n",
    "    print(i)\n",
    "    stri+=i\n",
    "print(stri)    "
   ]
  },
  {
   "cell_type": "code",
   "execution_count": null,
   "id": "a9f7a610-9dc5-4830-b5eb-a535e432c493",
   "metadata": {},
   "outputs": [],
   "source": []
  }
 ],
 "metadata": {
  "kernelspec": {
   "display_name": "Python 3",
   "language": "python",
   "name": "python3"
  },
  "language_info": {
   "codemirror_mode": {
    "name": "ipython",
    "version": 3
   },
   "file_extension": ".py",
   "mimetype": "text/x-python",
   "name": "python",
   "nbconvert_exporter": "python",
   "pygments_lexer": "ipython3",
   "version": "3.9.1"
  }
 },
 "nbformat": 4,
 "nbformat_minor": 5
}
